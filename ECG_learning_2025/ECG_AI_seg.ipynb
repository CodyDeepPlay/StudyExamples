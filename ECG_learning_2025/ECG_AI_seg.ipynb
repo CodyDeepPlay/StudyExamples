{
 "cells": [
  {
   "cell_type": "markdown",
   "id": "b0e6def4-37bc-4626-988d-6773d2ddd5f6",
   "metadata": {},
   "source": [
    "# Conduct ECG signal segmentation using various ML/AI methods\n",
    "\n",
    "The original data was This file is showing an example of how to load the ECG data from the physionet dataset that was originally downloaded from https://www.physionet.org/content/qtdb/1.0.0/\n",
    "The data was preprocessed and saved in '/data' folder into many smaller size .pkl files, so that we don't need to process them again, and easier for later study purposes. "
   ]
  },
  {
   "cell_type": "code",
   "execution_count": 7,
   "id": "b7e2ebba-1dd9-42ee-a252-7be08031a706",
   "metadata": {},
   "outputs": [
    {
     "name": "stdout",
     "output_type": "stream",
     "text": [
      "dict_keys(['ECG', 'fs', 'all_annotation'])\n",
      "ECG data explanation: data size is with [111167, 140, 2], 111167 individual ECG recordings, with each recording length is 140, and each recording has 2 channel of ECG\n",
      "ECG data size is with [observations, recording length, channels]: (111167, 140, 2)\n",
      "Annotation data explanation: converted annotation of all data points for each individual ECG. -1: baseline, 0: N, 1: st, 2:t, 3:iso, 4:p, 5:pq\n",
      "annotation data size is with [observations, recording length]: (111167, 140)\n"
     ]
    }
   ],
   "source": [
    "import os\n",
    "from lib import HelpferFunctions as hf  # custom module with helperfunctions needed here\n",
    "filename = \"individual_EKG_recording.pkl\"\n",
    "file_path = os.path.join(\"data\", filename)\n",
    "individual_ECG = hf.load_and_combine_pickle(file_path) # load the data\n",
    "print(individual_ECG.keys())\n",
    "print('ECG data explanation:',individual_ECG['ECG']['explain'])\n",
    "print('ECG data size is with [observations, recording length, channels]:',individual_ECG['ECG']['data'].shape)\n",
    "print('Annotation data explanation:',individual_ECG['all_annotation']['explain'])\n",
    "print('annotation data size is with [observations, recording length]:',individual_ECG['all_annotation']['data'].shape)\n"
   ]
  },
  {
   "cell_type": "markdown",
   "id": "bad708bc-4b0d-4142-b522-fd8b446012ba",
   "metadata": {},
   "source": [
    "## Use LSTM layer\n",
    "Decode the point-wise output of the ECG signal, so to achieve the segmentation of the overall signal.\n",
    "\n",
    "You might have problem install tensorflow on Mac M1 machine, \n",
    "Below are the steps I followed:\n",
    "#### 1.create a new conda environment:\n",
    "conda create -n tensorflow-env python=3.10\n",
    "conda activate tensorflow-env\n",
    "#### 2.install the Apple tensorflow dependencies:\n",
    "conda install -c apple tensorflow-deps\n",
    "#### 3.insall tensorflow for macOS:\n",
    "pip install tensorflow-macos\n",
    "#### 4.install the metal plugin for GPU support:\n",
    "pip install tensorflow-metal"
   ]
  },
  {
   "cell_type": "code",
   "execution_count": null,
   "id": "183e2dc2-4221-4f30-bd4a-c2c6d7f69777",
   "metadata": {},
   "outputs": [],
   "source": [
    "import tensorflow as tf   # tf.__version__ : '2.0.0'\n",
    "from tensorflow.keras import optimizers\n",
    "from sklearn.model_selection import train_test_split"
   ]
  },
  {
   "cell_type": "code",
   "execution_count": null,
   "id": "89bf9626-3c02-4e9f-bb17-f4101d1bbba9",
   "metadata": {},
   "outputs": [],
   "source": [
    "X_train, X_test, y_train, y_test = train_test_split(all_data, all_labels, test_size=0.2)  # 20% of the total data left as testing data\n",
    "    \n",
    "# get some data within training data, to be used as validation during training.\n",
    "num_validation = 100\n",
    "start_index    = 500\n",
    "mask = range(start_index, start_index + num_validation)\n",
    "X_val = X_train[mask]\n",
    "y_val = y_train[mask]"
   ]
  },
  {
   "cell_type": "code",
   "execution_count": null,
   "id": "aa854ada-afc9-444b-a841-396752e1100d",
   "metadata": {},
   "outputs": [],
   "source": []
  },
  {
   "cell_type": "code",
   "execution_count": null,
   "id": "1c2307ef-5c00-4ac8-859c-015ca5e68fcd",
   "metadata": {},
   "outputs": [],
   "source": []
  }
 ],
 "metadata": {
  "kernelspec": {
   "display_name": "Python 3 (ipykernel)",
   "language": "python",
   "name": "python3"
  },
  "language_info": {
   "codemirror_mode": {
    "name": "ipython",
    "version": 3
   },
   "file_extension": ".py",
   "mimetype": "text/x-python",
   "name": "python",
   "nbconvert_exporter": "python",
   "pygments_lexer": "ipython3",
   "version": "3.10.14"
  }
 },
 "nbformat": 4,
 "nbformat_minor": 5
}
