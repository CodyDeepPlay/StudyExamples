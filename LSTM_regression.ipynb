{
 "cells": [
  {
   "cell_type": "markdown",
   "metadata": {},
   "source": [
    "# Using LSTM to conduct regression predict"
   ]
  },
  {
   "cell_type": "markdown",
   "metadata": {},
   "source": [
    "#### First, generate sample of a time series."
   ]
  },
  {
   "cell_type": "code",
   "execution_count": 1,
   "metadata": {},
   "outputs": [],
   "source": [
    "import numpy as np\n",
    "import math\n",
    "import matplotlib.pyplot as plt\n"
   ]
  },
  {
   "cell_type": "code",
   "execution_count": 2,
   "metadata": {},
   "outputs": [
    {
     "data": {
      "text/plain": [
       "[<matplotlib.lines.Line2D at 0x185941accc0>]"
      ]
     },
     "execution_count": 2,
     "metadata": {},
     "output_type": "execute_result"
    },
    {
     "data": {
      "image/png": "[encoded data removed]",
      "text/plain": [
       "<Figure size 432x288 with 1 Axes>"
      ]
     },
     "metadata": {
      "needs_background": "light"
     },
     "output_type": "display_data"
    }
   ],
   "source": [
    "# generate a Sinewave\n",
    "N=400\n",
    "n=np.arange(N)\n",
    "mydata = n/10 + 4*np.sin(n/10) + 5*np.random.rand(N)\n",
    "plt.figure()\n",
    "plt.plot(mydata)"
   ]
  },
  {
   "cell_type": "markdown",
   "metadata": {},
   "source": [
    "#### recreate the data data so that it meets the requrement of shape for lstm learning later\n",
    "\n",
    "- define a kernel with size of step\n",
    "- move this kernal through the data set, and generate x and y data for lstm training"
   ]
  },
  {
   "cell_type": "code",
   "execution_count": 43,
   "metadata": {},
   "outputs": [
    {
     "name": "stdout",
     "output_type": "stream",
     "text": [
      "(400, 2)\n",
      "(400, 1)\n",
      "(400, 3)\n"
     ]
    }
   ],
   "source": [
    "# reshape the input data\n",
    "step = 2\n",
    "\n",
    "\n",
    "def reOrgData(mydata, step):\n",
    "\n",
    "    N = len(mydata)\n",
    "    time_series = np.zeros((len(mydata)+1,))\n",
    "    time_series[0:len(mydata)] = mydata\n",
    "    time_series[-1] = mydata[-1]  # replicate the last value in time_series\n",
    "\n",
    "    # get the first x data for training\n",
    "    my_x = time_series[0:step].reshape((1,step))   # reshape it to size (step, 1)\n",
    "    my_y = [time_series[step]]\n",
    "\n",
    "    for n in range(1, N):   # you already get the first x data above\n",
    "        mew_new_x = time_series[n: n+step].reshape((1,step))   # reshape it to size (step, 1)\n",
    "        my_x = np.concatenate((my_x, mew_new_x), axis=0) # concantenate data along row\n",
    "\n",
    "        if n+step<N-1:       my_y.append(time_series[n+step])\n",
    "        elif n+step>=N-1: my_y.append(time_series[n+step-1])  # for the last y, just replicate the data point\n",
    "\n",
    "    # reshape y data\n",
    "    my_y = np.asarray(my_y).reshape((len(my_y),1))\n",
    "    \n",
    "    return(my_x, my_y)\n",
    "\n",
    "my_x, my_y = reOrgData(mydata, step)\n",
    "\n",
    "\n",
    "# reformat the data with training y data concatenate to x data\n",
    "x_train = np.concatenate((my_x, my_y), axis=1) # concantenate data along column\n",
    "\n",
    "print(my_x.shape)\n",
    "print(my_y.shape)\n",
    "print(x_train.shape)\n"
   ]
  },
  {
   "cell_type": "markdown",
   "metadata": {},
   "source": [
    "### Use tensorflow lstm layer to build the model"
   ]
  },
  {
   "cell_type": "code",
   "execution_count": 44,
   "metadata": {},
   "outputs": [
    {
     "name": "stdout",
     "output_type": "stream",
     "text": [
      "tensorflow version: 2.0.0\n"
     ]
    }
   ],
   "source": [
    "# import related modules\n",
    "import tensorflow as tf\n",
    "print(\"tensorflow version: \" + tf.__version__)  # look at what version of tensorflow that I have\n",
    "from tensorflow.keras import optimizers\n",
    "from sklearn.model_selection import train_test_split\n",
    "import os\n",
    "directory =os.getcwd()  # get current working directory\n"
   ]
  },
  {
   "cell_type": "markdown",
   "metadata": {},
   "source": [
    "#### Build a lstm based recurrent neural network model\n",
    "This section defines the model structure"
   ]
  },
  {
   "cell_type": "code",
   "execution_count": 45,
   "metadata": {},
   "outputs": [
    {
     "name": "stdout",
     "output_type": "stream",
     "text": [
      "Model: \"sequential_3\"\n",
      "_________________________________________________________________\n",
      "Layer (type)                 Output Shape              Param #   \n",
      "=================================================================\n",
      "lstm_3 (LSTM)                (None, 128)               66560     \n",
      "_________________________________________________________________\n",
      "dense_9 (Dense)              (None, 64)                8256      \n",
      "_________________________________________________________________\n",
      "dense_10 (Dense)             (None, 32)                2080      \n",
      "_________________________________________________________________\n",
      "dense_11 (Dense)             (None, 1)                 33        \n",
      "=================================================================\n",
      "Total params: 76,929\n",
      "Trainable params: 76,929\n",
      "Non-trainable params: 0\n",
      "_________________________________________________________________\n"
     ]
    }
   ],
   "source": [
    "# build a learning decay schedule, use this during optimizer building.\n",
    "'''\n",
    "More info for exponetial decay:\n",
    "https://www.tensorflow.org/api_docs/python/tf/compat/v1/train/exponential_decay\n",
    "'''\n",
    "\n",
    "lr_schedule = tf.keras.optimizers.schedules.ExponentialDecay(  # use exponetial learning rate decay during training\n",
    "    initial_learning_rate= 0.01,\n",
    "    decay_steps=100,  # decay the learning rate every given decay_steps\n",
    "    decay_rate=0.96,  # every time for decay learning rate, decay with decay_rate of exponential decay base.\n",
    "    staircase=False)\n",
    "\n",
    "\n",
    "'''\n",
    "Build a simgple LSTM model\n",
    "use a unidirectional lstm layer, not bidirectional\n",
    "'''\n",
    "NUM_SCALES = 1\n",
    "input_shape = (step, NUM_SCALES)\n",
    "hidden_size = 128\n",
    "\n",
    "initializer = tf.initializers.VarianceScaling(scale=2.0)\n",
    "regularizer = tf.keras.regularizers.l2(0.02)\n",
    "layers = [   \n",
    "    tf.keras.layers.LSTM(input_shape=input_shape,\n",
    "                         units = hidden_size,\n",
    "                         #kernel_initializer=initializer,\n",
    "                         #kernel_regularizer=regularizer,\n",
    "                         #return_sequences=True,  # output in the sequence\n",
    "                         activation='relu'\n",
    "                        ),                \n",
    "        \n",
    "    tf.keras.layers.Dense(64, activation='relu'),\n",
    "    tf.keras.layers.Dense(32),\n",
    "    tf.keras.layers.Dense(1, activation='linear'),\n",
    "    \n",
    "    ]\n",
    "\n",
    "model = tf.keras.Sequential(layers)\n",
    "\n",
    "\n",
    "\n",
    "\n",
    "model.compile(optimizer=\"Adam\", loss=\"mse\", metrics=[\"mae\"])\n",
    "\n",
    "tensorboard_cbk = tf.keras.callbacks.TensorBoard(\n",
    "                              log_dir=directory,    # directory where to write logs\n",
    "                              histogram_freq=0,     # How often to log histogram visualizations\n",
    "                              embeddings_freq=0,    # How often to log embedding visualizations\n",
    "                              update_freq='epoch')  # How often to write logs (default: once per epoch)\n",
    "# print the model summary\n",
    "model.summary()"
   ]
  },
  {
   "cell_type": "markdown",
   "metadata": {},
   "source": [
    "#### Conduct training and testing\n",
    "#### Plot some figures to see"
   ]
  },
  {
   "cell_type": "code",
   "execution_count": 46,
   "metadata": {},
   "outputs": [
    {
     "name": "stdout",
     "output_type": "stream",
     "text": [
      "(400, 2, 1)\n"
     ]
    }
   ],
   "source": [
    "# reshape the data for training \n",
    "x_train = np.reshape(my_x, (my_x.shape[0], my_x.shape[1] ,1)) # (num, step, 1)\n",
    "y_train = my_y\n",
    "\n",
    "print(x_train.shape)\n"
   ]
  },
  {
   "cell_type": "code",
   "execution_count": 47,
   "metadata": {},
   "outputs": [
    {
     "name": "stdout",
     "output_type": "stream",
     "text": [
      "Train on 400 samples\n",
      "Epoch 1/50\n",
      "400/400 [==============================] - 1s 4ms/sample - loss: 494.7494 - mae: 20.1224\n",
      "Epoch 2/50\n",
      "400/400 [==============================] - 0s 167us/sample - loss: 111.5287 - mae: 9.8668\n",
      "Epoch 3/50\n",
      "400/400 [==============================] - 0s 112us/sample - loss: 97.0990 - mae: 8.1720\n",
      "Epoch 4/50\n",
      "400/400 [==============================] - 0s 150us/sample - loss: 81.6059 - mae: 7.5652\n",
      "Epoch 5/50\n",
      "400/400 [==============================] - 0s 115us/sample - loss: 10.2794 - mae: 2.7225\n",
      "Epoch 6/50\n",
      "400/400 [==============================] - 0s 162us/sample - loss: 10.3922 - mae: 2.5946\n",
      "Epoch 7/50\n",
      "400/400 [==============================] - 0s 97us/sample - loss: 9.1885 - mae: 2.4882\n",
      "Epoch 8/50\n",
      "400/400 [==============================] - 0s 145us/sample - loss: 5.2565 - mae: 1.8498\n",
      "Epoch 9/50\n",
      "400/400 [==============================] - 0s 112us/sample - loss: 3.9834 - mae: 1.6296\n",
      "Epoch 10/50\n",
      "400/400 [==============================] - 0s 152us/sample - loss: 3.7367 - mae: 1.5779\n",
      "Epoch 11/50\n",
      "400/400 [==============================] - 0s 120us/sample - loss: 3.5696 - mae: 1.5583\n",
      "Epoch 12/50\n",
      "400/400 [==============================] - 0s 177us/sample - loss: 3.5518 - mae: 1.5470\n",
      "Epoch 13/50\n",
      "400/400 [==============================] - 0s 122us/sample - loss: 3.4997 - mae: 1.5434\n",
      "Epoch 14/50\n",
      "400/400 [==============================] - 0s 192us/sample - loss: 3.5170 - mae: 1.5412\n",
      "Epoch 15/50\n",
      "400/400 [==============================] - 0s 117us/sample - loss: 3.4761 - mae: 1.5385\n",
      "Epoch 16/50\n",
      "400/400 [==============================] - 0s 180us/sample - loss: 3.5131 - mae: 1.5413\n",
      "Epoch 17/50\n",
      "400/400 [==============================] - 0s 122us/sample - loss: 3.4665 - mae: 1.5368\n",
      "Epoch 18/50\n",
      "400/400 [==============================] - 0s 120us/sample - loss: 3.5240 - mae: 1.5436\n",
      "Epoch 19/50\n",
      "400/400 [==============================] - 0s 202us/sample - loss: 3.4678 - mae: 1.5379\n",
      "Epoch 20/50\n",
      "400/400 [==============================] - 0s 140us/sample - loss: 3.5556 - mae: 1.5499\n",
      "Epoch 21/50\n",
      "400/400 [==============================] - 0s 110us/sample - loss: 3.4896 - mae: 1.5432\n",
      "Epoch 22/50\n",
      "400/400 [==============================] - 0s 122us/sample - loss: 3.6272 - mae: 1.5645\n",
      "Epoch 23/50\n",
      "400/400 [==============================] - 0s 122us/sample - loss: 3.5581 - mae: 1.5572\n",
      "Epoch 24/50\n",
      "400/400 [==============================] - 0s 120us/sample - loss: 3.7784 - mae: 1.5931\n",
      "Epoch 25/50\n",
      "400/400 [==============================] - 0s 117us/sample - loss: 3.7288 - mae: 1.5878\n",
      "Epoch 26/50\n",
      "400/400 [==============================] - 0s 132us/sample - loss: 4.0847 - mae: 1.6476\n",
      "Epoch 27/50\n",
      "400/400 [==============================] - 0s 132us/sample - loss: 4.1148 - mae: 1.6493\n",
      "Epoch 28/50\n",
      "400/400 [==============================] - 0s 219us/sample - loss: 4.6833 - mae: 1.7558\n",
      "Epoch 29/50\n",
      "400/400 [==============================] - 0s 130us/sample - loss: 4.9277 - mae: 1.7965\n",
      "Epoch 30/50\n",
      "400/400 [==============================] - 0s 165us/sample - loss: 5.8097 - mae: 1.9470\n",
      "Epoch 31/50\n",
      "400/400 [==============================] - 0s 141us/sample - loss: 6.5594 - mae: 2.0765\n",
      "Epoch 32/50\n",
      "400/400 [==============================] - 0s 116us/sample - loss: 7.8588 - mae: 2.2616\n",
      "Epoch 33/50\n",
      "400/400 [==============================] - 0s 194us/sample - loss: 9.7859 - mae: 2.5872\n",
      "Epoch 34/50\n",
      "400/400 [==============================] - 0s 135us/sample - loss: 11.5926 - mae: 2.7489\n",
      "Epoch 35/50\n",
      "400/400 [==============================] - 0s 102us/sample - loss: 16.4551 - mae: 3.4394\n",
      "Epoch 36/50\n",
      "400/400 [==============================] - 0s 137us/sample - loss: 18.6240 - mae: 3.4923\n",
      "Epoch 37/50\n",
      "400/400 [==============================] - 0s 194us/sample - loss: 31.1695 - mae: 4.8517\n",
      "Epoch 38/50\n",
      "400/400 [==============================] - 0s 105us/sample - loss: 30.7426 - mae: 4.4473\n",
      "Epoch 39/50\n",
      "400/400 [==============================] - 0s 189us/sample - loss: 59.9034 - mae: 6.7742\n",
      "Epoch 40/50\n",
      "400/400 [==============================] - 0s 125us/sample - loss: 38.6490 - mae: 4.9574\n",
      "Epoch 41/50\n",
      "400/400 [==============================] - 0s 150us/sample - loss: 73.0309 - mae: 7.3671\n",
      "Epoch 42/50\n",
      "400/400 [==============================] - 0s 155us/sample - loss: 24.7362 - mae: 3.9442\n",
      "Epoch 43/50\n",
      "400/400 [==============================] - 0s 147us/sample - loss: 30.3842 - mae: 4.6486\n",
      "Epoch 44/50\n",
      "400/400 [==============================] - 0s 110us/sample - loss: 11.5571 - mae: 2.7260\n",
      "Epoch 45/50\n",
      "400/400 [==============================] - 0s 150us/sample - loss: 10.7492 - mae: 2.7070\n",
      "Epoch 46/50\n",
      "400/400 [==============================] - 0s 97us/sample - loss: 6.1527 - mae: 2.0057\n",
      "Epoch 47/50\n",
      "400/400 [==============================] - 0s 127us/sample - loss: 5.7569 - mae: 1.9375\n",
      "Epoch 48/50\n",
      "400/400 [==============================] - 0s 130us/sample - loss: 4.4136 - mae: 1.7077\n",
      "Epoch 49/50\n",
      "400/400 [==============================] - 0s 135us/sample - loss: 4.3321 - mae: 1.6812\n",
      "Epoch 50/50\n",
      "400/400 [==============================] - 0s 95us/sample - loss: 3.8215 - mae: 1.5996\n"
     ]
    },
    {
     "data": {
      "text/plain": [
       "<tensorflow.python.keras.callbacks.History at 0x185c7a5deb8>"
      ]
     },
     "execution_count": 47,
     "metadata": {},
     "output_type": "execute_result"
    }
   ],
   "source": [
    "\n",
    "num_epoches = 50\n",
    "model.fit(x_train, y_train, batch_size=32, epochs=num_epoches, shuffle=False)    # use tensorboard call back to visualize the training process"
   ]
  },
  {
   "cell_type": "code",
   "execution_count": 50,
   "metadata": {},
   "outputs": [
    {
     "name": "stdout",
     "output_type": "stream",
     "text": [
      "loss: 3.9817944049835203\n",
      "mean absolute error: 1.6253636\n"
     ]
    }
   ],
   "source": [
    "# generate new data, and conduct prediction\n",
    "N=800\n",
    "n=np.arange(N)\n",
    "mydata2 = n/10 + 4*np.sin(n/10) + 5*np.random.rand(N)\n",
    "\n",
    "my_x2, my_y2 = reOrgData(mydata2, step)\n",
    "# reformat the data with training y data concatenate to x data\n",
    "#x_train2 = np.concatenate((my_x2, my_y2), axis=1) # concantenate data along column\n",
    "\n",
    "x_train2 = np.reshape(my_x2, (my_x2.shape[0], my_x2.shape[1] ,1)) # (num, step, 1)\n",
    "y_train2 = my_y2\n",
    "\n",
    "y_pred = model.predict(x_train2)\n",
    "scores = model.evaluate(x_train2, y_train2, verbose = 0)\n",
    "print(\"loss: \" + str(scores[0]) )\n",
    "print(\"mean absolute error: \" + str(scores[1]) )"
   ]
  },
  {
   "cell_type": "code",
   "execution_count": 51,
   "metadata": {},
   "outputs": [
    {
     "name": "stdout",
     "output_type": "stream",
     "text": [
      "a single point prediction is: [[57.401524]]\n"
     ]
    },
    {
     "data": {
      "image/png": "[encoded data removed]",
      "text/plain": [
       "<Figure size 432x288 with 1 Axes>"
      ]
     },
     "metadata": {
      "needs_background": "light"
     },
     "output_type": "display_data"
    }
   ],
   "source": [
    "plt.figure()\n",
    "plt.plot(mydata2)\n",
    "plt.plot(y_pred)\n",
    "plt.legend([\"raw\",\"predicted\"])\n",
    "\n",
    "\n",
    "# conduct a single point prediction\n",
    "loc = 560\n",
    "a_single_data = np.reshape(x_train2[loc,:,:], (1,step,1) )\n",
    "y_pred_single = model.predict(a_single_data)\n",
    "\n",
    "plt.plot(loc, y_pred_single[0], 'ro')\n",
    "\n",
    "print(\"a single point prediction is: \" + str(y_pred_single))\n"
   ]
  },
  {
   "cell_type": "code",
   "execution_count": null,
   "metadata": {},
   "outputs": [],
   "source": []
  }
 ],
 "metadata": {
  "kernelspec": {
   "display_name": "Python 3",
   "language": "python",
   "name": "python3"
  },
  "language_info": {
   "codemirror_mode": {
    "name": "ipython",
    "version": 3
   },
   "file_extension": ".py",
   "mimetype": "text/x-python",
   "name": "python",
   "nbconvert_exporter": "python",
   "pygments_lexer": "ipython3",
   "version": "3.7.0"
  }
 },
 "nbformat": 4,
 "nbformat_minor": 4
}
